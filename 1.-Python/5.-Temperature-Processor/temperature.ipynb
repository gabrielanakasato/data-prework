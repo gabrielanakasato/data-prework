{
 "cells": [
  {
   "cell_type": "markdown",
   "metadata": {},
   "source": [
    "<img src=\"https://bit.ly/2VnXWr2\" width=\"100\" align=\"left\">"
   ]
  },
  {
   "cell_type": "markdown",
   "metadata": {},
   "source": [
    "# Temperature Sensor\n",
    "\n",
    "There is a temperature sensor in the processor of your company's server. The company wants to analyze the data provided by the sensor to decide if they should change the cooling system for a better one. As changing the cooling system is expensive and you are an excellent data analyst, you can't make a decision without basis.\n",
    "\n",
    "## Tools\n",
    "You don't necessarily need to use all the tools. Maybe you opt to use some of them or completely different ones, they are given to help you shape the exercise. Programming exercises can be solved in many different ways.\n",
    "1. Data structures: **lists**\n",
    "2. Loops: **list comprehension**\n",
    "3. Functions: **min, max, print, len**\n",
    "4. Conditional statements: **if-elif-else**\n",
    "\n",
    "## Tasks\n",
    "The temperatures measured throughout the 24 hours of a day are:"
   ]
  },
  {
   "cell_type": "code",
   "execution_count": 1,
   "metadata": {},
   "outputs": [],
   "source": [
    "temperatures_C = [33, 66, 65, 0, 59, 60, 62, 64, 70, 76, 80, 81, 80, 83, 90, 79, 61, 53, 50, 49, 53, 48, 45, 39]"
   ]
  },
  {
   "cell_type": "markdown",
   "metadata": {},
   "source": [
    "The first element of the list is the temperature at 12am, the second element is the temperature at 1am, and so on. \n",
    "\n",
    "The company has decided that if one of the following events occurs, then the cooling system needs to be replaced for a new one to avoid damaging the processor.\n",
    "* More than 4 temperatures are greater than or equal to 70ºC.\n",
    "* Any temperature is above 80ºC.\n",
    "* The average temperature exceeds 65ºC.\n",
    "\n",
    "Follow the steps so that you can make the decision.\n",
    "\n",
    "#### 1. Find the minimum temperature of the day and store it in a variable."
   ]
  },
  {
   "cell_type": "code",
   "execution_count": 2,
   "metadata": {},
   "outputs": [
    {
     "name": "stdout",
     "output_type": "stream",
     "text": [
      "The minimum temperature of the day was 0°C.\n"
     ]
    }
   ],
   "source": [
    "# Minimum temperature of the day\n",
    "min_temp_C = min(temperatures_C)\n",
    "\n",
    "# Print the answer on the screen\n",
    "print(f'The minimum temperature of the day was {min_temp_C}°C.')"
   ]
  },
  {
   "cell_type": "markdown",
   "metadata": {},
   "source": [
    "#### 2. Find the maximum temperature of the day and store it in a variable."
   ]
  },
  {
   "cell_type": "code",
   "execution_count": 3,
   "metadata": {},
   "outputs": [
    {
     "name": "stdout",
     "output_type": "stream",
     "text": [
      "The maximum temperature of the day was 90°C.\n"
     ]
    }
   ],
   "source": [
    "# Maximum temperature of the day\n",
    "max_temp_C = max(temperatures_C)\n",
    "\n",
    "# Print the answer on the screen\n",
    "print(f'The maximum temperature of the day was {max_temp_C}°C.')"
   ]
  },
  {
   "cell_type": "markdown",
   "metadata": {},
   "source": [
    "#### 3. Create a list with the temperatures that are greater than or equal to 70ºC. Store it in a variable."
   ]
  },
  {
   "cell_type": "code",
   "execution_count": 4,
   "metadata": {},
   "outputs": [
    {
     "name": "stdout",
     "output_type": "stream",
     "text": [
      "8 temperature(s) was/were greater than or equal to 70°C.\n",
      "They are\n",
      "[70, 76, 80, 81, 80, 83, 90, 79]\n"
     ]
    }
   ],
   "source": [
    "# Variable\n",
    "greater_equal_70_C = []\n",
    "\n",
    "# Check which temperatures are greater than or equal to 70°C\n",
    "for time in range(len(temperatures_C)):\n",
    "    if temperatures_C[time] >= 70:\n",
    "        greater_equal_70_C.append(temperatures_C[time])\n",
    "\n",
    "# Print the answer on the screen\n",
    "print(f'{len(greater_equal_70_C)} temperature(s) was/were greater than or equal to 70°C.')\n",
    "if len(greater_equal_70_C) == 1:\n",
    "    print(f'It is\\n{greater_equal_70_C}')\n",
    "elif len(greater_equal_70_C) > 1:\n",
    "    print(f'They are\\n{greater_equal_70_C}')"
   ]
  },
  {
   "cell_type": "markdown",
   "metadata": {},
   "source": [
    "#### 4. Find the average temperature of the day and store it in a variable."
   ]
  },
  {
   "cell_type": "code",
   "execution_count": 5,
   "metadata": {},
   "outputs": [
    {
     "name": "stdout",
     "output_type": "stream",
     "text": [
      "The average temperature of the day was 60.25°C.\n"
     ]
    }
   ],
   "source": [
    "# Mean\n",
    "mean_temp_C = sum(temperatures_C) / len(temperatures_C)\n",
    "\n",
    "# Print the answer on the screen\n",
    "print(f'The average temperature of the day was {mean_temp_C:.2f}°C.')"
   ]
  },
  {
   "cell_type": "markdown",
   "metadata": {},
   "source": [
    "#### 5. Imagine that there was a sensor failure at 3am and the data for that specific hour was not recorded. How would you estimate the missing value? Replace the current value of the list at 3am for an estimation. "
   ]
  },
  {
   "cell_type": "code",
   "execution_count": 6,
   "metadata": {},
   "outputs": [
    {
     "name": "stdout",
     "output_type": "stream",
     "text": [
      "The updated list of temperatures is\n",
      "[33, 66, 65, 62, 59, 60, 62, 64, 70, 76, 80, 81, 80, 83, 90, 79, 61, 53, 50, 49, 53, 48, 45, 39]\n"
     ]
    }
   ],
   "source": [
    "# To estimate the temperature at 3AM, I would calculate the mean between its predecessor and its sucessor temperatures\n",
    "\n",
    "# Estimation of the temperature at 3AM\n",
    "for time in range(len(temperatures_C)):\n",
    "    if time == 3:\n",
    "        temp_C_3am = (temperatures_C[time - 1] + temperatures_C[time + 1]) / 2\n",
    "        temperatures_C[time] = temp_C_3am\n",
    "\n",
    "dec_C = [round(elem) for elem in temperatures_C] # List of temperatures with each value rounded\n",
    "        \n",
    "# Print the updated list of temperatures on the screen\n",
    "print(f'The updated list of temperatures is\\n{dec_C}')"
   ]
  },
  {
   "cell_type": "markdown",
   "metadata": {},
   "source": [
    "#### 6. Bonus: the maintenance staff is from the United States and does not understand the international metric system. Help them by converting the temperatures from Celsius to Fahrenheit.\n",
    "To know more about temperature conversion check this [link](https://en.wikipedia.org/wiki/Conversion_of_units_of_temperature).\n",
    "\n",
    "**Formula**: \n",
    "\n",
    "$F = 1.8 * C + 32$"
   ]
  },
  {
   "cell_type": "code",
   "execution_count": 7,
   "metadata": {},
   "outputs": [
    {
     "name": "stdout",
     "output_type": "stream",
     "text": [
      "Converting the temperatures from Celsius to Fahrenheit, the new list is\n",
      "[91.4, 150.8, 149.0, 143.6, 138.2, 140.0, 143.6, 147.2, 158.0, 168.8, 176.0, 177.8, 176.0, 181.4, 194.0, 174.2, 141.8, 127.4, 122.0, 120.2, 127.4, 118.4, 113.0, 102.2]\n"
     ]
    }
   ],
   "source": [
    "# Variable\n",
    "temperatures_F = []\n",
    "\n",
    "# Convert Celsius to Fahrenheit\n",
    "for time in range(len(temperatures_C)):\n",
    "    temp_F = 1.8 * temperatures_C[time] + 32\n",
    "    temperatures_F.append(temp_F)\n",
    "\n",
    "dec_F = [round(elem, 1) for elem in temperatures_F] # List of temperatures with each value rounded to 1 decimal place\n",
    "\n",
    "# Print the answer on the screen\n",
    "print(f'Converting the temperatures from Celsius to Fahrenheit, the new list is\\n{dec_F}')"
   ]
  },
  {
   "cell_type": "markdown",
   "metadata": {},
   "source": [
    "#### 7. Make a decision!\n",
    "Now it's time to make a decision taking into account what you have seen until now. \n",
    "\n",
    "Remember that if one of the following events occurs, then the cooling system needs to be replaced for a new one to avoid damaging the processor.\n",
    "* More than 4 temperatures are greater than or equal to 70ºC.\n",
    "* Any temperature is above 80ºC.\n",
    "* The average temperature exceeds 65ºC.\n",
    "\n",
    "#### To make your decision, check if any of the three conditions above is met. You might need to use some of the variables you created in steps 1 to 6. Print a message to show if the cooling system needs to be changed or not."
   ]
  },
  {
   "cell_type": "code",
   "execution_count": 8,
   "metadata": {},
   "outputs": [
    {
     "name": "stdout",
     "output_type": "stream",
     "text": [
      "2 out of 3 conditions were met. Therefore, the cooling system needs to be replaced\n"
     ]
    }
   ],
   "source": [
    "# Variable\n",
    "conditions = 0\n",
    "\n",
    "# Check if the cooling system needs to be replaced and print the asnwer on the screen\n",
    "if (len(greater_equal_70_C) > 4) or (max_temp_C > 80) or (mean_temp_C > 65):\n",
    "    # Check how many conditions were met\n",
    "    if len(greater_equal_70_C) > 4:\n",
    "        conditions += 1\n",
    "    if max_temp_C > 80:\n",
    "        conditions += 1\n",
    "    if mean_temp_C > 65:\n",
    "        conditions += 1\n",
    "    print(f'{conditions} out of 3 conditions were met. Therefore, the cooling system needs to be replaced')\n",
    "else:\n",
    "    print('The cooling system does not need to be replaced')"
   ]
  },
  {
   "cell_type": "markdown",
   "metadata": {},
   "source": [
    "## Bonus\n",
    "\n",
    "The company has decided that the decision you made is not valid. They want you to analyze the data again but this time, the conditions that need to be met in order to change the cooling system are different.\n",
    "\n",
    "This time, if one of the following events occurs, then the cooling system needs to be replaced:\n",
    "* The temperature is greater than 70ºC during more than 4 consecutive hours.\n",
    "* Any temperature is above 80ºC.\n",
    "* The average temperature exceeds 65ºC.\n",
    "\n",
    "Follow the steps so that you can make the decision.\n",
    "\n",
    "#### 1. Create a list with the hours where the temperature is greater than 70ºC. Store it in a variable."
   ]
  },
  {
   "cell_type": "code",
   "execution_count": 9,
   "metadata": {},
   "outputs": [
    {
     "name": "stdout",
     "output_type": "stream",
     "text": [
      "The following hours presented a temperatures greater than 70°C:\n",
      "[9, 10, 11, 12, 13, 14, 15]\n"
     ]
    }
   ],
   "source": [
    "# Variable\n",
    "greater_70_hour = []\n",
    "\n",
    "# Make list with the hours where the temperaature is greater than 70°C\n",
    "for hour in range(len(temperatures_C)):\n",
    "    if temperatures_C[hour] > 70:\n",
    "        greater_70_hour.append(hour)\n",
    "\n",
    "# Print the answer on the screen\n",
    "if len(greater_70_hour) > 0:\n",
    "    print(f'The following hours presented a temperatures greater than 70°C:\\n{greater_70_hour}')\n",
    "else:\n",
    "    print('There were no temperatures greater than 70°C.')"
   ]
  },
  {
   "cell_type": "markdown",
   "metadata": {},
   "source": [
    "#### 2. Check if the list you created in step 1 has more than 4 consecutive hours. "
   ]
  },
  {
   "cell_type": "code",
   "execution_count": 10,
   "metadata": {},
   "outputs": [
    {
     "name": "stdout",
     "output_type": "stream",
     "text": [
      "It was measured a temperature greater than 70°C for 7 consecutive hours.\n",
      "The consecutive hours are:\n",
      "[9, 10, 11, 12, 13, 14, 15]\n"
     ]
    }
   ],
   "source": [
    "# Variable\n",
    "consecutive = 1\n",
    "consecutive_hours = []\n",
    "\n",
    "# Check if there are more than 4 consecutive hours in the list\n",
    "for i in range(len(greater_70_hour) - 1):\n",
    "# The last element of the list does not to be checked\n",
    "    if (greater_70_hour[i + 1] - greater_70_hour[i]) == 1:\n",
    "        consecutive += 1\n",
    "        consecutive_hours.append(greater_70_hour[i])\n",
    "        if i == (len(greater_70_hour) - 2):\n",
    "            consecutive_hours.append(greater_70_hour[i + 1])\n",
    "    else:\n",
    "        consecutive = 1\n",
    "        consecutive_hours.clear()\n",
    "\n",
    "# Print the answer on the screen\n",
    "if len(consecutive_hours) > 4:\n",
    "    print(f'It was measured a temperature greater than 70°C for {consecutive} consecutive hours.')\n",
    "    print(f'The consecutive hours are:\\n{consecutive_hours}')\n",
    "else:\n",
    "    print(f'It was not measured a temperature greater than 70°C for more than 4 consecutive hours')"
   ]
  },
  {
   "cell_type": "markdown",
   "metadata": {},
   "source": [
    "#### 3. Make the decision!\n",
    "To make your decision, check if any of the three conditions is met. Print a message to show if the cooling system needs to be changed or not."
   ]
  },
  {
   "cell_type": "code",
   "execution_count": 11,
   "metadata": {},
   "outputs": [
    {
     "name": "stdout",
     "output_type": "stream",
     "text": [
      "2 out of 3 conditions was/were met. Therefore, the cooling system needs to be changed.\n"
     ]
    }
   ],
   "source": [
    "# Variables\n",
    "condition = 0\n",
    "\n",
    "# Check if any of the three conditions were met\n",
    "if (len(consecutive_hours) > 4) or (max_temp_C > 80) or (mean_temp_C > 65):\n",
    "    if len(consecutive_hours) > 4:\n",
    "        condition += 1\n",
    "    if max_temp_C > 80:\n",
    "        condition += 1\n",
    "    if mean_temp_C > 65:\n",
    "        condition += 1\n",
    "    print(f'{condition} out of 3 conditions was/were met. Therefore, the cooling system needs to be changed.')\n",
    "else:\n",
    "    print('The cooling system does not need to be changed.')"
   ]
  },
  {
   "cell_type": "markdown",
   "metadata": {},
   "source": [
    "#### 4. Find the average value of the temperature lists (ºC and ºF). What is the relation between both average values?"
   ]
  },
  {
   "cell_type": "code",
   "execution_count": 12,
   "metadata": {},
   "outputs": [
    {
     "name": "stdout",
     "output_type": "stream",
     "text": [
      "Average temperatures:\n",
      "Celsius: 62.83°C\n",
      "Fahrenheit: 145.10°F\n",
      "\n",
      "Both meaans are equivalents in different temperatures scales, that means, if you convert the temperature mean for Celsius (in this case, it is equal to 62.83°C) to the Farenheit scale, the result is 145.10°F, which is the same value of the temperature mean found in Farenheit, and vice-versa\n",
      "\n",
      "If you consider just the values, ignoring the fact that the means are in different scales, the mean of the Farenheit scale is 2.31 times larger than the one o the Celsius scale.\n"
     ]
    }
   ],
   "source": [
    "# Mean °C\n",
    "mean_temp_C = sum(temperatures_C) / len(temperatures_C)\n",
    "mean_C_F = 1.8 * mean_temp_C + 32\n",
    "\n",
    "# Mean °F\n",
    "mean_temp_F = sum(temperatures_F) / len(temperatures_F)\n",
    "\n",
    "# Print the answer on the screen\n",
    "print(f'Average temperatures:\\nCelsius: {mean_temp_C:.2f}°C\\nFahrenheit: {mean_temp_F:.2f}°F\\n')\n",
    "print(f'Both meaans are equivalents in different temperatures scales, that means, if you convert the temperature', end = \" \")\n",
    "print(f'mean for Celsius (in this case, it is equal to {mean_temp_C:.2f}°C) to the Farenheit scale, the result is', end = \" \")\n",
    "print(f'{mean_C_F:.2f}°F, which is the same value of the temperature mean found in Farenheit, and vice-versa')\n",
    "print(f'\\nIf you consider just the values, ignoring the fact that the means are in different scales, the mean', end = \" \")\n",
    "print(f'of the Farenheit scale is {(mean_temp_F / mean_temp_C):.2f} times larger than the one o the Celsius scale.')"
   ]
  },
  {
   "cell_type": "markdown",
   "metadata": {},
   "source": [
    "#### 5. Find the standard deviation of the temperature lists (ºC and ºF). What is the relation between both standard deviations?"
   ]
  },
  {
   "cell_type": "code",
   "execution_count": 13,
   "metadata": {},
   "outputs": [
    {
     "name": "stdout",
     "output_type": "stream",
     "text": [
      "Standard Deviation (SD):\n",
      "Celsius: 14.63\n",
      "Fahrenheit: 26.34\n",
      "\n",
      "The SD for Fahrenheit is 1.80 times larger than the one for Celsius, meaning that the values for Celsius list are more homogeneus and closer to the mean than the numbers in the Fahrenheit list.\n"
     ]
    }
   ],
   "source": [
    "# Variables\n",
    "var_C_num = 0\n",
    "var_F_num = 0\n",
    "\n",
    "# Numerator of the variance °C\n",
    "for index in range(len(temperatures_C)):\n",
    "    var_C_num += (temperatures_C[index] - mean_temp_C) ** 2\n",
    "\n",
    "# Standard deviation °C\n",
    "sd_C = (var_C_num / len(temperatures_C)) ** (1 / 2)\n",
    "\n",
    "# Numerator of the variance\n",
    "for index in range(len(temperatures_F)):\n",
    "    var_F_num += (temperatures_F[index] - mean_temp_F) ** 2\n",
    "\n",
    "# Standard deviation °F\n",
    "sd_F = (var_F_num / len(temperatures_F)) ** (1 / 2)\n",
    "\n",
    "# Print the answer on the screen\n",
    "print(f'Standard Deviation (SD):\\nCelsius: {sd_C:.2f}\\nFahrenheit: {sd_F:.2f}\\n')\n",
    "if sd_C > sd_F:\n",
    "    print(f'The SD for Celsius is {(sd_C / sd_F):.2f} times larger than the one for Farenheit, meaning that the values', end = \" \")\n",
    "    print(f'in the Fahrenheit list are more homogeneus and closer to the mean than the numbers in the Celsius list.')\n",
    "elif sd_F > sd_C:\n",
    "    print(f'The SD for Fahrenheit is {(sd_F / sd_C):.2f} times larger than the one for Celsius, meaning that the', end = \" \")\n",
    "    print(f'values for Celsius list are more homogeneus and closer to the mean than the numbers in the Fahrenheit list.')\n",
    "else:\n",
    "    print(f'The standard deviations are the same, which means, in both lists, the dispersion of the values is about the same')"
   ]
  }
 ],
 "metadata": {
  "kernelspec": {
   "display_name": "Python 3",
   "language": "python",
   "name": "python3"
  },
  "language_info": {
   "codemirror_mode": {
    "name": "ipython",
    "version": 3
   },
   "file_extension": ".py",
   "mimetype": "text/x-python",
   "name": "python",
   "nbconvert_exporter": "python",
   "pygments_lexer": "ipython3",
   "version": "3.8.3"
  }
 },
 "nbformat": 4,
 "nbformat_minor": 2
}
