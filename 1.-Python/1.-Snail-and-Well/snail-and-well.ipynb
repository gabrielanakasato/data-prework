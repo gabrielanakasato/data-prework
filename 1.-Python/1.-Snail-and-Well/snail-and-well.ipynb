{
 "cells": [
  {
   "cell_type": "markdown",
   "metadata": {},
   "source": [
    "<img src=\"https://bit.ly/2VnXWr2\" width=\"100\" align=\"left\">"
   ]
  },
  {
   "cell_type": "markdown",
   "metadata": {},
   "source": [
    "# The Snail and the Well\n",
    "\n",
    "A snail falls at the bottom of a 125 cm well. Each day the snail rises 30 cm. But at night, while sleeping, slides 20 cm because the walls are wet. How many days does it take for the snail to escape the well?\n",
    "\n",
    "**Hint**: The snail gets out of the well when it surpasses the 125cm of height.\n",
    "\n",
    "## Tools\n",
    "\n",
    "1. Loop: **while**\n",
    "2. Conditional statements: **if-else**\n",
    "3. Function: **print()**\n",
    "\n",
    "## Tasks\n",
    "\n",
    "#### 1. Assign the challenge data to variables with representative names: `well_height`, `daily_distance`, `nightly_distance` and `snail_position`."
   ]
  },
  {
   "cell_type": "code",
   "execution_count": 1,
   "metadata": {},
   "outputs": [],
   "source": [
    "well_height = 125\n",
    "daily_distance = 30\n",
    "nightly_distance = 20\n",
    "snail_position = 0"
   ]
  },
  {
   "cell_type": "markdown",
   "metadata": {},
   "source": [
    "#### 2. Create a variable `days` to keep count of the days that pass until the snail escapes the well. "
   ]
  },
  {
   "cell_type": "code",
   "execution_count": 2,
   "metadata": {},
   "outputs": [],
   "source": [
    "days = 0"
   ]
  },
  {
   "cell_type": "markdown",
   "metadata": {},
   "source": [
    "#### 3. Find the solution to the challenge using the variables defined above. "
   ]
  },
  {
   "cell_type": "code",
   "execution_count": 3,
   "metadata": {},
   "outputs": [],
   "source": [
    "while snail_position < well_height:\n",
    "    snail_position += (daily_distance - nightly_distance)\n",
    "    days += 1"
   ]
  },
  {
   "cell_type": "markdown",
   "metadata": {},
   "source": [
    "#### 4. Print the solution."
   ]
  },
  {
   "cell_type": "code",
   "execution_count": 4,
   "metadata": {},
   "outputs": [
    {
     "name": "stdout",
     "output_type": "stream",
     "text": [
      "The snail will take 13 days to get out of the well.\n"
     ]
    }
   ],
   "source": [
    "print(f'The snail will take {days} days to get out of the well.')"
   ]
  },
  {
   "cell_type": "markdown",
   "metadata": {},
   "source": [
    "## Bonus\n",
    "The distance traveled by the snail each day is now defined by a list.\n",
    "```\n",
    "advance_cm = [30, 21, 33, 77, 44, 45, 23, 45, 12, 34, 55]\n",
    "```\n",
    "On the first day, the snail rises 30cm but during the night it slides 20cm. On the second day, the snail rises 21cm but during the night it slides 20cm, and so on. \n",
    "\n",
    "#### 1. How many days does it take for the snail to escape the well?\n",
    "Follow the same guidelines as in the previous challenge.\n",
    "\n",
    "**Hint**: Remember that the snail gets out of the well when it surpasses the 125cm of height."
   ]
  },
  {
   "cell_type": "code",
   "execution_count": 5,
   "metadata": {},
   "outputs": [
    {
     "name": "stdout",
     "output_type": "stream",
     "text": [
      "The snail will take 6 days to get out of the well.\n"
     ]
    }
   ],
   "source": [
    "# Variables\n",
    "well_height = 125\n",
    "nightly_distance = 20\n",
    "advance_cm = [30, 21, 33, 77, 44, 45, 23, 45, 12, 34, 55]\n",
    "real_advance = []\n",
    "snail_position = 0\n",
    "days = 0\n",
    "\n",
    "# Number of days the snail takes to escape the well\n",
    "while snail_position < well_height:\n",
    "    for daily_distance in advance_cm:\n",
    "        snail_position += (daily_distance - nightly_distance)\n",
    "        real_advance.append(daily_distance) # This list will be used in the next exercises\n",
    "        days += 1\n",
    "        if snail_position > well_height:\n",
    "            break\n",
    "\n",
    "# Print the answer on the screen\n",
    "print(f'The snail will take {days} days to get out of the well.')"
   ]
  },
  {
   "cell_type": "markdown",
   "metadata": {},
   "source": [
    "#### 2. What is its maximum displacement in one day? And its minimum? Calculate the displacement using only the travel distance of the days used to get out of the well. \n",
    "**Hint**: Remember that displacement means the total distance risen taking into account that the snail slides at night.  "
   ]
  },
  {
   "cell_type": "code",
   "execution_count": 6,
   "metadata": {},
   "outputs": [
    {
     "name": "stdout",
     "output_type": "stream",
     "text": [
      "The minimum displacement in one day was 1 cm and the maximum was 57 cm.\n"
     ]
    }
   ],
   "source": [
    "# Maximum and minimum displacements in one day\n",
    "max_disp = max(real_advance) - nightly_distance\n",
    "min_disp = min(real_advance) - nightly_distance\n",
    "\n",
    "# Print the asnwer on the screen\n",
    "print(f'The minimum displacement in one day was {min_disp} cm and the maximum was {max_disp} cm.')"
   ]
  },
  {
   "cell_type": "markdown",
   "metadata": {},
   "source": [
    "#### 3. What is its average progress? Take into account the snail slides at night."
   ]
  },
  {
   "cell_type": "code",
   "execution_count": 7,
   "metadata": {},
   "outputs": [
    {
     "name": "stdout",
     "output_type": "stream",
     "text": [
      "The average progress was 21.67 cm in one day.\n"
     ]
    }
   ],
   "source": [
    "# Variable\n",
    "total_disp = 0\n",
    "\n",
    "# Sum of the displacements in each day, taking in consideration the snail slides at night\n",
    "for advance in real_advance:\n",
    "    total_disp += (advance - nightly_distance)\n",
    "\n",
    "# Mean\n",
    "mean_disp = total_disp / len(real_advance)\n",
    "\n",
    "# Print the answer on the screen\n",
    "print(f'The average progress was {mean_disp:.2f} cm in one day.')"
   ]
  },
  {
   "cell_type": "markdown",
   "metadata": {},
   "source": [
    "#### 4. What is the standard deviation of its displacement? Take into account the snail slides at night."
   ]
  },
  {
   "cell_type": "code",
   "execution_count": 8,
   "metadata": {},
   "outputs": [
    {
     "name": "stdout",
     "output_type": "stream",
     "text": [
      "The standar deviation of its displacement is 17.81 cm.\n"
     ]
    }
   ],
   "source": [
    "# Variable\n",
    "var_disp_num = 0\n",
    "\n",
    "# Numerator of the variance\n",
    "for advance in real_advance:\n",
    "    var_disp_num += (advance - nightly_distance - mean_disp) ** 2\n",
    "\n",
    "# Variance\n",
    "var_disp = var_disp_num / len(real_advance)\n",
    "\n",
    "# Standard deviation\n",
    "sd_disp = (var_disp) ** (1 / 2)\n",
    "\n",
    "# Print the answer on the screen\n",
    "print(f'The standar deviation of its displacement is {sd_disp:.2f} cm.')"
   ]
  }
 ],
 "metadata": {
  "kernelspec": {
   "display_name": "Python 3",
   "language": "python",
   "name": "python3"
  },
  "language_info": {
   "codemirror_mode": {
    "name": "ipython",
    "version": 3
   },
   "file_extension": ".py",
   "mimetype": "text/x-python",
   "name": "python",
   "nbconvert_exporter": "python",
   "pygments_lexer": "ipython3",
   "version": "3.8.3"
  }
 },
 "nbformat": 4,
 "nbformat_minor": 2
}
