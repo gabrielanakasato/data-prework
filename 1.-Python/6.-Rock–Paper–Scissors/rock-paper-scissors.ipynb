{
 "cells": [
  {
   "cell_type": "markdown",
   "metadata": {},
   "source": [
    "<img src=\"https://bit.ly/2VnXWr2\" width=\"100\" align=\"left\">"
   ]
  },
  {
   "cell_type": "markdown",
   "metadata": {},
   "source": [
    "# Rock, Paper & Scissors\n",
    "\n",
    "Let's play the famous game against our computer. You can check the rules [here](https://en.wikipedia.org/wiki/Rock%E2%80%93paper%E2%80%93scissors). \n",
    "\n",
    "## Task\n",
    "Create a program that imitates the playability of the well known game of rock, paper, scissors. Follow the guidelines provided.\n",
    "\n",
    "## Tools\n",
    "1. Loop: **for/while**\n",
    "2. Functions: **input(), print()...**\n",
    "3. Conditional statements: **if, elif, else**\n",
    "4. Definition of functions. Modular programming\n",
    "5. Import modules\n",
    "\n",
    "**To solve this challenge, the use of functions is recommended.**\n",
    "\n",
    "#### 1. Import the choice function of the random module."
   ]
  },
  {
   "cell_type": "code",
   "execution_count": 1,
   "metadata": {},
   "outputs": [],
   "source": [
    "from random import choice"
   ]
  },
  {
   "cell_type": "markdown",
   "metadata": {},
   "source": [
    "#### 2. Create a list that includes the 3 possible gesture options of the game: 'rock', 'paper' or 'scissors'. Store the list in a variable called `gestures`."
   ]
  },
  {
   "cell_type": "code",
   "execution_count": 2,
   "metadata": {},
   "outputs": [],
   "source": [
    "gestures = ['rock', 'paper', 'scissors']"
   ]
  },
  {
   "cell_type": "markdown",
   "metadata": {},
   "source": [
    "#### 3. Create a variable called `n_rounds` to store the maximum number of rounds to play in a game. \n",
    "Remember that the number of rounds must be odd: 1, 3, 5, ..."
   ]
  },
  {
   "cell_type": "code",
   "execution_count": 3,
   "metadata": {},
   "outputs": [],
   "source": [
    "# The maximum number of rounds will be 5\n",
    "n_rounds = 5"
   ]
  },
  {
   "cell_type": "markdown",
   "metadata": {},
   "source": [
    "#### 4. Create a variable called `rounds_to_win` to store the number of rounds that a player must win to win the game.\n",
    "**Hint**: the value stored in `rounds_to_win` depends on the value of `n_rounds`. "
   ]
  },
  {
   "cell_type": "code",
   "execution_count": 4,
   "metadata": {},
   "outputs": [
    {
     "name": "stdout",
     "output_type": "stream",
     "text": [
      "The number of rounds necessary to have a definitive winner is 3 rounds.\n"
     ]
    }
   ],
   "source": [
    "# Number of rounds to have a winner\n",
    "rounds_to_win = (n_rounds // 2) + 1\n",
    "\n",
    "# Print the answer on the screen\n",
    "print(f'The number of rounds necessary to have a definitive winner is {rounds_to_win} rounds.')"
   ]
  },
  {
   "cell_type": "markdown",
   "metadata": {},
   "source": [
    "#### 5. Create two variables to store the number of rounds that the computer and the player have won. Call these variables `cpu_score` and `player_score`."
   ]
  },
  {
   "cell_type": "code",
   "execution_count": 5,
   "metadata": {},
   "outputs": [],
   "source": [
    "cpu_score = 0\n",
    "player_score = 0\n",
    "# 'tie_n' counts number of ties\n",
    "tie_n = 0\n",
    "# 'rounds_played' counts the number of rounds played\n",
    "rounds_played = 0"
   ]
  },
  {
   "cell_type": "markdown",
   "metadata": {},
   "source": [
    "#### 6. Define a function that randomly returns one of the 3 gesture options.\n",
    "You will use this function to simulate the gesture choice of the computer. "
   ]
  },
  {
   "cell_type": "code",
   "execution_count": 6,
   "metadata": {},
   "outputs": [],
   "source": [
    "# Function to simulate the cpu's gesture\n",
    "def cpu_choice():\n",
    "    global cpu_gesture\n",
    "    cpu_gesture = choice(gestures)\n",
    "    return cpu_gesture"
   ]
  },
  {
   "cell_type": "markdown",
   "metadata": {},
   "source": [
    "#### 7. Define a function that asks the player which is the gesture he or she wants to show: 'rock', 'paper' or 'scissors'.\n",
    "The player should only be allowed to choose one of the 3 gesture options. If the player's choice is not rock, paper or scissors, keep asking until it is."
   ]
  },
  {
   "cell_type": "code",
   "execution_count": 7,
   "metadata": {},
   "outputs": [],
   "source": [
    "def player_choice():\n",
    "    global player_gesture\n",
    "    print(f\"\"\"Choose your gesture:\\n1 - Rock (R)\\n2 - Paper (P)\\n3 - Scissors (S)\n",
    "    Note: You can write either a number, the word for the gesture or the initials in parenthesis\"\"\")\n",
    "    p_choice = input('Gesture: ')\n",
    "    \n",
    "    while True:\n",
    "        # Check if the player input a number and assign the number to the its correspondent gesture\n",
    "        if (p_choice.isdigit() == True) and (p_choice in ['1', '2', '3']):\n",
    "            for i in range(len(gestures)):\n",
    "                if (i + 1) == int(p_choice):\n",
    "                    player_gesture = gestures[i]\n",
    "                    return player_gesture \n",
    "        # Check if the player input a word\n",
    "        elif (p_choice.isalpha() == True) and (p_choice.lower() in gestures):\n",
    "            player_gesture = p_choice.lower()\n",
    "            return player_gesture\n",
    "        # Check if the player input a letter\n",
    "        elif (p_choice.isalpha() == True) and (p_choice.lower() in ['r', 'p', 's']):\n",
    "            if p_choice.lower() == 'r':\n",
    "                player_gesture = 'rock'\n",
    "                return player_gesture\n",
    "            elif p_choice.lower() == 'p':\n",
    "                player_gesture = 'paper'\n",
    "                return player_gesture\n",
    "            elif p_choice.lower() == 's':\n",
    "                player_gesture = 'scissors'\n",
    "                return player_gesture\n",
    "        else:\n",
    "            p_choice = input(f'Input a valid gesture: ')"
   ]
  },
  {
   "cell_type": "markdown",
   "metadata": {},
   "source": [
    "#### 8. Define a function that checks who won a round. \n",
    "The function should return 0 if there is a tie, 1 if the computer wins and 2 if the player wins."
   ]
  },
  {
   "cell_type": "code",
   "execution_count": 8,
   "metadata": {},
   "outputs": [],
   "source": [
    "def check_winner():\n",
    "    global result\n",
    "    # Tie\n",
    "    if cpu_gesture == player_gesture:\n",
    "        result = 0\n",
    "        return result\n",
    "    # Computer wins\n",
    "    elif ((cpu_gesture == 'rock' and player_gesture == 'scissors') or (cpu_gesture == 'paper' and player_gesture == 'rock')\n",
    "          or (cpu_gesture == 'scissors' and player_gesture == 'paper')):\n",
    "        result = 1\n",
    "        return result\n",
    "    # Player wins\n",
    "    else:\n",
    "        result = 2\n",
    "        return result"
   ]
  },
  {
   "cell_type": "markdown",
   "metadata": {},
   "source": [
    "#### 9. Define a function that prints the choice of the computer, the choice of the player and a message that announces who won the current round. \n",
    "You should also use this function to update the variables that count the number of rounds that the computer and the player have won. The score of the winner increases by one point. If there is a tie, the score does not increase."
   ]
  },
  {
   "cell_type": "code",
   "execution_count": 9,
   "metadata": {},
   "outputs": [],
   "source": [
    "def show_winner():\n",
    "    global player_score, cpu_score, tie_n\n",
    "    print(f'CPU gesture: {cpu_gesture}')\n",
    "    print(f'Player gesture: {player_gesture}')\n",
    "    if result == 2:\n",
    "        player_score += 1\n",
    "        print('The PLAYER wins this round.')\n",
    "    elif result == 1:\n",
    "        cpu_score += 1\n",
    "        print('The CPU wins this round.')\n",
    "    else:\n",
    "        tie_n += 1\n",
    "        print('It is a TIE.')"
   ]
  },
  {
   "cell_type": "markdown",
   "metadata": {},
   "source": [
    "#### 10. Now it's time to code the execution of the game using the functions and variables you defined above. \n",
    "\n",
    "First, create a loop structure that repeats while no player reaches the minimum score necessary to win and the number of rounds is less than the maximum number of rounds to play in a game.  \n",
    "\n",
    "Inside the loop, use the functions and variables above to create the execution of a round: ask for the player's choice, generate the random choice of the computer, show the round results, update the scores, etc. "
   ]
  },
  {
   "cell_type": "code",
   "execution_count": 10,
   "metadata": {},
   "outputs": [
    {
     "name": "stdout",
     "output_type": "stream",
     "text": [
      "\n",
      "ROUND 1\n",
      "Choose your gesture:\n",
      "1 - Rock (R)\n",
      "2 - Paper (P)\n",
      "3 - Scissors (S)\n",
      "    Note: You can write either a number, the word for the gesture or the initials in parenthesis\n",
      "Gesture: R\n",
      "CPU gesture: rock\n",
      "Player gesture: rock\n",
      "It is a TIE.\n",
      "\n",
      "ROUND 2\n",
      "Choose your gesture:\n",
      "1 - Rock (R)\n",
      "2 - Paper (P)\n",
      "3 - Scissors (S)\n",
      "    Note: You can write either a number, the word for the gesture or the initials in parenthesis\n",
      "Gesture: S\n",
      "CPU gesture: scissors\n",
      "Player gesture: scissors\n",
      "It is a TIE.\n",
      "\n",
      "ROUND 3\n",
      "Choose your gesture:\n",
      "1 - Rock (R)\n",
      "2 - Paper (P)\n",
      "3 - Scissors (S)\n",
      "    Note: You can write either a number, the word for the gesture or the initials in parenthesis\n",
      "Gesture: S\n",
      "CPU gesture: paper\n",
      "Player gesture: scissors\n",
      "The PLAYER wins this round.\n",
      "\n",
      "ROUND 4\n",
      "Choose your gesture:\n",
      "1 - Rock (R)\n",
      "2 - Paper (P)\n",
      "3 - Scissors (S)\n",
      "    Note: You can write either a number, the word for the gesture or the initials in parenthesis\n",
      "Gesture: R\n",
      "CPU gesture: paper\n",
      "Player gesture: rock\n",
      "The CPU wins this round.\n",
      "\n",
      "ROUND 5 - LAST ROUND\n",
      "Choose your gesture:\n",
      "1 - Rock (R)\n",
      "2 - Paper (P)\n",
      "3 - Scissors (S)\n",
      "    Note: You can write either a number, the word for the gesture or the initials in parenthesis\n",
      "Gesture: P\n",
      "CPU gesture: rock\n",
      "Player gesture: paper\n",
      "The PLAYER wins this round.\n",
      "\n",
      "FINAL SCORE:\n",
      "Player: 2\n",
      "CPU: 1\n",
      "Tie: 2\n"
     ]
    }
   ],
   "source": [
    "for round in range(int(n_rounds)):\n",
    "    # Show which round it is on the screen\n",
    "    if round == (int(n_rounds) - 1):\n",
    "        print(f'\\nROUND {round + 1} - LAST ROUND') \n",
    "    else:\n",
    "        print(f'\\nROUND {round + 1}')\n",
    "    # Asks the players theirs gesture\n",
    "    player_choice()\n",
    "    # Randomly decides cpu's choice\n",
    "    cpu_choice()\n",
    "    # Check who is the winner of the round and show the result on the screen\n",
    "    check_winner()\n",
    "    show_winner()\n",
    "    rounds_played += 1\n",
    "    # If one of the players's score achieve the number of rounds to win, the program stops\n",
    "    if (player_score == rounds_to_win) or (cpu_score == rounds_to_win) or (round == (int(n_rounds) - 1)):\n",
    "        print(f'\\nFINAL SCORE:\\nPlayer: {player_score}\\nCPU: {cpu_score}\\nTie: {tie_n}')\n",
    "        break"
   ]
  },
  {
   "cell_type": "markdown",
   "metadata": {},
   "source": [
    "#### 11. Print the winner of the game based on who won more rounds.\n",
    "Remember that the game might be tied. "
   ]
  },
  {
   "cell_type": "code",
   "execution_count": 11,
   "metadata": {},
   "outputs": [
    {
     "name": "stdout",
     "output_type": "stream",
     "text": [
      "FINAL RESULT\n",
      "\n",
      "ROUNDS\n",
      "Maximum number of rounds: 5\n",
      "Number of rounds played: 5\n",
      "\n",
      "SCORE\n",
      "Player: 2\n",
      "CPU: 1\n",
      "Tie: 2\n",
      "Congratulations! You are the winner!\n"
     ]
    }
   ],
   "source": [
    "print(f'FINAL RESULT\\n\\nROUNDS\\nMaximum number of rounds: {n_rounds}\\nNumber of rounds played: {rounds_played}')\n",
    "print(f'\\nSCORE\\nPlayer: {player_score}\\nCPU: {cpu_score}\\nTie: {tie_n}')\n",
    "if player_score > cpu_score:\n",
    "    print('Congratulations! You are the winner!')\n",
    "elif cpu_score > player_score:\n",
    "    print('The CPU is the winner.')\n",
    "else:\n",
    "    print('It is a TIE.')"
   ]
  },
  {
   "cell_type": "markdown",
   "metadata": {},
   "source": [
    "# Bonus: Rock, Paper, Scissors, Lizard & Spock\n",
    "![](images/rpsls.jpg)\n",
    "\n",
    "In this challenge, you need to improve the previous game by adding two new options. To know more about the rules of the improved version of rock, paper, scissors, check this [link](http://www.samkass.com/theories/RPSSL.html). \n",
    "\n",
    "In addition, you will also need to improve how the game interacts with the player: the number of rounds to play, which must be an odd number, will be requested to the user until a valid number is entered. Define a new function to make that request.\n",
    "\n",
    "**Hint**: Try to reuse the code that you already coded in the previous challenge. If your code is efficient, this bonus will only consist of simple modifications to the original game."
   ]
  },
  {
   "cell_type": "code",
   "execution_count": 12,
   "metadata": {},
   "outputs": [
    {
     "name": "stdout",
     "output_type": "stream",
     "text": [
      "How many rounds to you want to play?\n",
      "Note: It must be an odd number\n",
      "7\n",
      "The number of rounds to have a definitive winner is 4.\n"
     ]
    }
   ],
   "source": [
    "# Gestures\n",
    "gestures2 = ['rock', 'paper', 'scissors', 'spock', 'lizard']\n",
    "\n",
    "# Number of rounds\n",
    "n_rounds = input(f'How many rounds to you want to play?\\nNote: It must be an odd number\\n')\n",
    "while (n_rounds.isdigit() == False) or (int(n_rounds) % 2 == 0):\n",
    "    n_rounds = input('Please, enter a valid number of rounds: ')\n",
    "\n",
    "# Number of rounds to have a winner\n",
    "if int(n_rounds) > 1:\n",
    "    rounds_to_win = (int(n_rounds) // 2) + 1\n",
    "else:\n",
    "    rounds_to_win = 1\n",
    "print(f'The number of rounds to have a definitive winner is {rounds_to_win}.')"
   ]
  },
  {
   "cell_type": "code",
   "execution_count": 13,
   "metadata": {},
   "outputs": [],
   "source": [
    "# Function that asks the player his/her gesture\n",
    "def player_choice2():\n",
    "    global player_gesture\n",
    "    print(f\"\"\"Choose your gesture:\\n1 - Rock (R)\\n2 - Paper (P)\\n3 - Scissors (Sc)\\n4 - Spock (Sp)\\n5 - Lizard (L)\n",
    "    Note: You can write either a number, the word for the gesture or the initials in parenthesis\"\"\")\n",
    "    p_choice = input('Gesture: ')\n",
    "    \n",
    "    while True:\n",
    "        # Check if the player input a number and assign the number to the its correspondent gesture\n",
    "        if (p_choice.isdigit() == True) and (p_choice in ['1', '2', '3', '4', '5']):\n",
    "            for i in range(len(gestures2)):\n",
    "                if (i + 1) == int(p_choice):\n",
    "                    player_gesture = gestures2[i]\n",
    "                    return player_gesture \n",
    "        # Check if the player input a word\n",
    "        elif (p_choice.isalpha() == True) and (p_choice.lower() in gestures2):\n",
    "            player_gesture = p_choice.lower()\n",
    "            return player_gesture\n",
    "        # Check if the player input letters\n",
    "        elif (p_choice.isalpha() == True) and (p_choice.lower() in ['r', 'p', 'sc', 'sp', 'l']):\n",
    "            if p_choice.lower() == 'r':\n",
    "                player_gesture = 'rock'\n",
    "                return player_gesture\n",
    "            elif p_choice.lower() == 'p':\n",
    "                player_gesture = 'paper'\n",
    "                return player_gesture\n",
    "            elif p_choice.lower() == 'sc':\n",
    "                player_gesture = 'scissors'\n",
    "                return player_gesture\n",
    "            elif p_choice.lower() == 'sp':\n",
    "                player_gesture = 'spock'\n",
    "                return player_gesture\n",
    "            elif p_choice.lower() == 'l':\n",
    "                player_gesture = 'lizard'\n",
    "                return player_gesture\n",
    "        else:\n",
    "            p_choice = input(f'Input a valid gesture: ')\n",
    "\n",
    "# Function to chack who won the round\n",
    "def check_winner2():\n",
    "    global result\n",
    "    # Tie\n",
    "    if cpu_gesture == player_gesture:\n",
    "        result = 0\n",
    "        return result\n",
    "    # Computer wins\n",
    "    elif ((cpu_gesture == 'rock' and player_gesture == 'scissors') or (cpu_gesture == 'rock' and player_gesture == 'lizard')\n",
    "          or (cpu_gesture == 'paper' and player_gesture == 'rock') or (cpu_gesture == 'paper' and player_gesture == 'spock')\n",
    "          or (cpu_gesture == 'scissors' and player_gesture == 'paper') or (cpu_gesture == 'scissors' and player_gesture == 'lizard')\n",
    "          or (cpu_gesture == 'spock' and player_gesture == 'scissors') or (cpu_gesture == 'spock' and player_gesture == 'rock')\n",
    "          or (cpu_gesture == 'lizard' and player_gesture == 'spock') or (cpu_gesture == 'lizard' and player_gesture == 'paper')):\n",
    "        result = 1\n",
    "        return result\n",
    "    # Player wins\n",
    "    else:\n",
    "        result = 2\n",
    "        return result"
   ]
  },
  {
   "cell_type": "code",
   "execution_count": 14,
   "metadata": {},
   "outputs": [
    {
     "name": "stdout",
     "output_type": "stream",
     "text": [
      "\n",
      "ROUND 1\n",
      "Choose your gesture:\n",
      "1 - Rock (R)\n",
      "2 - Paper (P)\n",
      "3 - Scissors (Sc)\n",
      "4 - Spock (Sp)\n",
      "5 - Lizard (L)\n",
      "    Note: You can write either a number, the word for the gesture or the initials in parenthesis\n",
      "Gesture: L\n",
      "CPU gesture: rock\n",
      "Player gesture: lizard\n",
      "The CPU wins this round.\n",
      "\n",
      "ROUND 2\n",
      "Choose your gesture:\n",
      "1 - Rock (R)\n",
      "2 - Paper (P)\n",
      "3 - Scissors (Sc)\n",
      "4 - Spock (Sp)\n",
      "5 - Lizard (L)\n",
      "    Note: You can write either a number, the word for the gesture or the initials in parenthesis\n",
      "Gesture: R\n",
      "CPU gesture: scissors\n",
      "Player gesture: rock\n",
      "The PLAYER wins this round.\n",
      "\n",
      "ROUND 3\n",
      "Choose your gesture:\n",
      "1 - Rock (R)\n",
      "2 - Paper (P)\n",
      "3 - Scissors (Sc)\n",
      "4 - Spock (Sp)\n",
      "5 - Lizard (L)\n",
      "    Note: You can write either a number, the word for the gesture or the initials in parenthesis\n",
      "Gesture: SC\n",
      "CPU gesture: scissors\n",
      "Player gesture: scissors\n",
      "It is a TIE.\n",
      "\n",
      "ROUND 4\n",
      "Choose your gesture:\n",
      "1 - Rock (R)\n",
      "2 - Paper (P)\n",
      "3 - Scissors (Sc)\n",
      "4 - Spock (Sp)\n",
      "5 - Lizard (L)\n",
      "    Note: You can write either a number, the word for the gesture or the initials in parenthesis\n",
      "Gesture: SP\n",
      "CPU gesture: rock\n",
      "Player gesture: spock\n",
      "The PLAYER wins this round.\n",
      "\n",
      "ROUND 5\n",
      "Choose your gesture:\n",
      "1 - Rock (R)\n",
      "2 - Paper (P)\n",
      "3 - Scissors (Sc)\n",
      "4 - Spock (Sp)\n",
      "5 - Lizard (L)\n",
      "    Note: You can write either a number, the word for the gesture or the initials in parenthesis\n",
      "Gesture: SP\n",
      "CPU gesture: scissors\n",
      "Player gesture: spock\n",
      "The PLAYER wins this round.\n",
      "\n",
      "ROUND 6\n",
      "Choose your gesture:\n",
      "1 - Rock (R)\n",
      "2 - Paper (P)\n",
      "3 - Scissors (Sc)\n",
      "4 - Spock (Sp)\n",
      "5 - Lizard (L)\n",
      "    Note: You can write either a number, the word for the gesture or the initials in parenthesis\n",
      "Gesture: L\n",
      "CPU gesture: paper\n",
      "Player gesture: lizard\n",
      "The PLAYER wins this round.\n",
      "\n",
      "FINAL SCORE:\n",
      "Player: 4\n",
      "CPU: 1\n"
     ]
    }
   ],
   "source": [
    "# Variables (reset the value of each player's score to 0)\n",
    "player_score = 0\n",
    "cpu_score = 0\n",
    "tie_n = 0\n",
    "rounds_played = 0\n",
    "\n",
    "# Execution of the game\n",
    "for round in range(int(n_rounds)):\n",
    "    # Show which round it is on the screen\n",
    "    if round == (int(n_rounds) - 1):\n",
    "        print(f'\\nROUND {round + 1} - LAST ROUND')\n",
    "    else:\n",
    "        print(f'\\nROUND {round + 1}')\n",
    "    # Asks the players theirs gesture\n",
    "    player_choice2()\n",
    "    # Randomly decides cpu's choice\n",
    "    cpu_choice()\n",
    "    # Check who is the winner of the round and show the result on the screen\n",
    "    check_winner2()\n",
    "    show_winner()\n",
    "    rounds_played += 1\n",
    "    # If one of the players's score achieve the number of rounds to win, the program stops\n",
    "    if (player_score == rounds_to_win) or (cpu_score == rounds_to_win) or (round == (int(n_rounds) - 1)):\n",
    "        print(f'\\nFINAL SCORE:\\nPlayer: {player_score}\\nCPU: {cpu_score}')\n",
    "        break"
   ]
  },
  {
   "cell_type": "code",
   "execution_count": 15,
   "metadata": {},
   "outputs": [
    {
     "name": "stdout",
     "output_type": "stream",
     "text": [
      "FINAL RESULT\n",
      "\n",
      "ROUNDS\n",
      "Maximum number of rounds: 7\n",
      "Number of rounds played: 6\n",
      "\n",
      "SCORE\n",
      "Player: 4\n",
      "CPU: 1\n",
      "Tie: 1\n",
      "Congratulations! You are the winner!\n"
     ]
    }
   ],
   "source": [
    "# Print the results on the screen\n",
    "print(f'FINAL RESULT\\n\\nROUNDS\\nMaximum number of rounds: {n_rounds}\\nNumber of rounds played: {rounds_played}')\n",
    "print(f'\\nSCORE\\nPlayer: {player_score}\\nCPU: {cpu_score}\\nTie: {tie_n}')\n",
    "if player_score > cpu_score:\n",
    "    print('Congratulations! You are the winner!')\n",
    "elif cpu_score > player_score:\n",
    "    print('The CPU is the winner.')\n",
    "else:\n",
    "    print('It is a TIE.')"
   ]
  }
 ],
 "metadata": {
  "kernelspec": {
   "display_name": "Python 3",
   "language": "python",
   "name": "python3"
  },
  "language_info": {
   "codemirror_mode": {
    "name": "ipython",
    "version": 3
   },
   "file_extension": ".py",
   "mimetype": "text/x-python",
   "name": "python",
   "nbconvert_exporter": "python",
   "pygments_lexer": "ipython3",
   "version": "3.8.3"
  }
 },
 "nbformat": 4,
 "nbformat_minor": 2
}
